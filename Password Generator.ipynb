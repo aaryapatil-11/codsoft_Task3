{
 "cells": [
  {
   "cell_type": "markdown",
   "id": "113d25b4-02e2-4c41-8e6d-ea750a91f1c1",
   "metadata": {},
   "source": [
    "# Password Generator"
   ]
  },
  {
   "cell_type": "code",
   "execution_count": null,
   "id": "cf695d8e-683f-441a-9941-0d84f9449c1a",
   "metadata": {},
   "outputs": [],
   "source": [
    "import random\n",
    "import string\n",
    "\n",
    "def generate_password(length):\n",
    "    if length < 4:  # Ensure the password length is at least 4 to include all character types\n",
    "        print(\"Password length should be at least 4.\")\n",
    "        return None\n",
    "\n",
    "    # Define the possible characters in the password\n",
    "    all_characters = string.ascii_letters + string.digits + string.punctuation\n",
    "\n",
    "    # Ensure the password contains at least one lowercase letter, one uppercase letter, one digit, and one special character\n",
    "    password = [\n",
    "        random.choice(string.ascii_lowercase),\n",
    "        random.choice(string.ascii_uppercase),\n",
    "        random.choice(string.digits),\n",
    "        random.choice(string.punctuation),\n",
    "    ]\n",
    "\n",
    "    # Add random characters to the password until it reaches the desired length\n",
    "    password += random.choices(all_characters, k=length-4)\n",
    "\n",
    "    # Shuffle the list to make the password more random\n",
    "    random.shuffle(password)\n",
    "\n",
    "    # Convert the list to a string and return\n",
    "    return ''.join(password)\n",
    "\n",
    "if __name__ == \"__main__\":\n",
    "    try:\n",
    "        length = int(input(\"Enter the desired length for your password: \"))\n",
    "        password = generate_password(length)\n",
    "        if password:\n",
    "            print(\"Generated password:\", password)\n",
    "    except ValueError:\n",
    "        print(\"Invalid input! Please enter a numerical value for the length.\")\n"
   ]
  },
  {
   "cell_type": "code",
   "execution_count": null,
   "id": "7d89f414-8cd5-416a-8e90-c3c213a26707",
   "metadata": {},
   "outputs": [],
   "source": []
  }
 ],
 "metadata": {
  "kernelspec": {
   "display_name": "Python 3 (ipykernel)",
   "language": "python",
   "name": "python3"
  },
  "language_info": {
   "codemirror_mode": {
    "name": "ipython",
    "version": 3
   },
   "file_extension": ".py",
   "mimetype": "text/x-python",
   "name": "python",
   "nbconvert_exporter": "python",
   "pygments_lexer": "ipython3",
   "version": "3.11.7"
  }
 },
 "nbformat": 4,
 "nbformat_minor": 5
}
